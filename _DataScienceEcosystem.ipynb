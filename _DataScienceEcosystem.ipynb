{
 "cells": [
  {
   "cell_type": "markdown",
   "id": "5f4a45df-0554-4f00-9ba3-77547fcd3e49",
   "metadata": {},
   "source": [
    "# Data Science Tools and Ecosystem"
   ]
  },
  {
   "cell_type": "code",
   "execution_count": null,
   "id": "3752ccc9-7de7-4c45-baae-313754218fb4",
   "metadata": {},
   "outputs": [],
   "source": []
  },
  {
   "cell_type": "markdown",
   "id": "7fd1d60f-9a59-41f5-92a5-6401245030a9",
   "metadata": {},
   "source": [
    "# Introduction\n",
    "In this notebook, Data Science Tools and Ecosystem are summarized."
   ]
  },
  {
   "cell_type": "markdown",
   "id": "fe0e62b4-28ba-4591-b245-1d5725e819d2",
   "metadata": {
    "tags": []
   },
   "source": [
    "# Some of the popular languages that Data Scientists use are:\n",
    "\n",
    "1. Python\n",
    "2. C++\n",
    "3. Julia"
   ]
  },
  {
   "cell_type": "markdown",
   "id": "e7ba3d3b-f800-4c7b-835d-058fa2d8d7fa",
   "metadata": {},
   "source": [
    "# Some of the commonly used libraries used by Data Scientists include:\n",
    "\n",
    "1. Pandas\n",
    "2. NumPy\n",
    "3. TensorFlow"
   ]
  },
  {
   "cell_type": "markdown",
   "id": "9a490e51-c05a-4e53-8d32-8dcec8fa681b",
   "metadata": {},
   "source": [
    "# Data Science Tools\n",
    "\n",
    "| Jupyter Notebook | RStudio | VsCode |\n",
    "|------------------|---------|--------|\n",
    "|                  |         |        |\n",
    "\n",
    "\n"
   ]
  },
  {
   "cell_type": "markdown",
   "id": "fa194394-34b8-4912-aefb-6e95ce3b23e7",
   "metadata": {
    "tags": []
   },
   "source": [
    "### Below are a few examples of evaluating arithmetic expressions in Python\n"
   ]
  },
  {
   "cell_type": "code",
   "execution_count": 8,
   "id": "2b82a801-51a2-4314-b8af-c863b2302798",
   "metadata": {
    "tags": []
   },
   "outputs": [
    {
     "data": {
      "text/plain": [
       "3.3333333333333335"
      ]
     },
     "execution_count": 8,
     "metadata": {},
     "output_type": "execute_result"
    }
   ],
   "source": [
    "# This will convert 200 minutes to hours by diving by 60.\n",
    "\n",
    "# Number of minutes\n",
    "minutes = 200\n",
    "\n",
    "# Convert minutes to hours\n",
    "hours = minutes / 60\n",
    "\n",
    "# Display the result\n",
    "hours"
   ]
  },
  {
   "cell_type": "markdown",
   "id": "6fd8fa58-a61d-43dc-a541-3d55c389ca46",
   "metadata": {},
   "source": [
    "# Objectives:\n",
    "\n",
    "- Pyhton\n",
    "- C++\n",
    "- Java"
   ]
  },
  {
   "cell_type": "markdown",
   "id": "946382a2-0ced-4945-a666-00c45579635d",
   "metadata": {},
   "source": [
    "## Author\n",
    "Robert Greene"
   ]
  },
  {
   "cell_type": "code",
   "execution_count": null,
   "id": "2ab96c67-fb94-4dae-9494-8be17fe6abd4",
   "metadata": {},
   "outputs": [],
   "source": []
  }
 ],
 "metadata": {
  "kernelspec": {
   "display_name": "Python 3 (ipykernel)",
   "language": "python",
   "name": "python3"
  },
  "language_info": {
   "codemirror_mode": {
    "name": "ipython",
    "version": 3
   },
   "file_extension": ".py",
   "mimetype": "text/x-python",
   "name": "python",
   "nbconvert_exporter": "python",
   "pygments_lexer": "ipython3",
   "version": "3.11.5"
  }
 },
 "nbformat": 4,
 "nbformat_minor": 5
}
